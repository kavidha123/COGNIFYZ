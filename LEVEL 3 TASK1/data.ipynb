{
 "cells": [
  {
   "cell_type": "markdown",
   "id": "3c5c309a-160f-4d94-91e8-28fb818c2b54",
   "metadata": {},
   "source": [
    "# Import Libraries"
   ]
  },
  {
   "cell_type": "code",
   "execution_count": 1,
   "id": "7dd00c92-cd9d-4a3c-87e8-5c1196abf601",
   "metadata": {},
   "outputs": [],
   "source": [
    "import pandas as pd\n",
    "import numpy as np\n",
    "from sklearn.model_selection import train_test_split\n",
    "from sklearn.linear_model import LinearRegression\n",
    "from sklearn.tree import DecisionTreeRegressor\n",
    "from sklearn.ensemble import RandomForestRegressor\n",
    "from sklearn.metrics import mean_squared_error, r2_score\n"
   ]
  },
  {
   "cell_type": "markdown",
   "id": "cc693597-8597-4406-b330-c579e10eefd0",
   "metadata": {},
   "source": [
    "# Data Preprocessing"
   ]
  },
  {
   "cell_type": "code",
   "execution_count": 4,
   "id": "0d4bc796-3d7f-44b5-a348-47baceaa1afc",
   "metadata": {},
   "outputs": [
    {
     "name": "stdout",
     "output_type": "stream",
     "text": [
      "   Cuisines_encoded  Price range  Votes\n",
      "0               920            3    314\n",
      "1              1111            3    591\n",
      "2              1671            4    270\n",
      "3              1126            4    365\n",
      "4              1122            4    229 0    4.8\n",
      "1    4.5\n",
      "2    4.4\n",
      "3    4.9\n",
      "4    4.8\n",
      "Name: Aggregate rating, dtype: float64\n"
     ]
    }
   ],
   "source": [
    "# Handling categorical variables - Encoding 'Cuisines'\n",
    "df['Cuisines_encoded'] = label_encoder.fit_transform(df['Cuisines'].astype(str))\n",
    "\n",
    "# Checking for and Filling Missing Values (only for numeric columns)\n",
    "df.fillna(df.median(numeric_only=True), inplace=True)\n",
    "\n",
    "# Selecting Relevant Features\n",
    "selected_features = ['Cuisines_encoded', 'Price range', 'Votes']\n",
    "\n",
    "# Preparing the dataset for the model\n",
    "X = df[selected_features]\n",
    "y = df['Aggregate rating']\n",
    "\n",
    "# Printing the first few rows of the processed features and target variable\n",
    "print(X.head(), y.head())\n",
    "\n"
   ]
  },
  {
   "cell_type": "markdown",
   "id": "ce7a6ee6-e3a8-4246-8293-35108f09a139",
   "metadata": {},
   "source": [
    "# Split the data into training and testing sets"
   ]
  },
  {
   "cell_type": "code",
   "execution_count": 5,
   "id": "4670c94d-aa86-475a-9da3-81e12f22f31a",
   "metadata": {},
   "outputs": [
    {
     "name": "stdout",
     "output_type": "stream",
     "text": [
      "Training set shape (X_train, y_train): (7640, 3) (7640,)\n",
      "Testing set shape (X_test, y_test): (1911, 3) (1911,)\n"
     ]
    }
   ],
   "source": [
    "from sklearn.model_selection import train_test_split\n",
    "\n",
    "# Splitting the dataset into training and testing sets\n",
    "X_train, X_test, y_train, y_test = train_test_split(X, y, test_size=0.2, random_state=42)\n",
    "\n",
    "# Printing the shapes of the training and testing sets\n",
    "print(\"Training set shape (X_train, y_train):\", X_train.shape, y_train.shape)\n",
    "print(\"Testing set shape (X_test, y_test):\", X_test.shape, y_test.shape)\n"
   ]
  },
  {
   "cell_type": "markdown",
   "id": "887e09aa-ad20-40cf-8585-7ca7da74ee76",
   "metadata": {},
   "source": [
    "# Model Training"
   ]
  },
  {
   "cell_type": "markdown",
   "id": "e1c7f0b8-1e57-4ab0-b3d7-cab85a3edbba",
   "metadata": {},
   "source": [
    "# Linear Regression"
   ]
  },
  {
   "cell_type": "code",
   "execution_count": 6,
   "id": "22b717cf-39ab-48ce-8ca9-cec2d6a8bd01",
   "metadata": {},
   "outputs": [
    {
     "name": "stdout",
     "output_type": "stream",
     "text": [
      "Linear Regression - MSE: 1.747116351073405 R2: 0.23241094406650153\n"
     ]
    }
   ],
   "source": [
    "from sklearn.linear_model import LinearRegression\n",
    "from sklearn.metrics import mean_squared_error, r2_score\n",
    "\n",
    "# Training the Linear Regression model\n",
    "linear_model = LinearRegression()\n",
    "linear_model.fit(X_train, y_train)\n",
    "\n",
    "# Predicting and evaluating\n",
    "y_pred_linear = linear_model.predict(X_test)\n",
    "mse_linear = mean_squared_error(y_test, y_pred_linear)\n",
    "r2_linear = r2_score(y_test, y_pred_linear)\n",
    "print(\"Linear Regression - MSE:\", mse_linear, \"R2:\", r2_linear)\n"
   ]
  },
  {
   "cell_type": "markdown",
   "id": "e9121bfe-43bf-49ec-8eb4-a0c256f79691",
   "metadata": {},
   "source": [
    "# Decision Tree"
   ]
  },
  {
   "cell_type": "code",
   "execution_count": 7,
   "id": "8fa94902-ee8c-41f6-9da4-6f32ef4b3c9c",
   "metadata": {},
   "outputs": [
    {
     "name": "stdout",
     "output_type": "stream",
     "text": [
      "Decision Tree - MSE: 0.21064964017174628 R2: 0.9074518658515099\n"
     ]
    }
   ],
   "source": [
    "from sklearn.tree import DecisionTreeRegressor\n",
    "\n",
    "# Training the Decision Tree model\n",
    "tree_model = DecisionTreeRegressor(random_state=42)\n",
    "tree_model.fit(X_train, y_train)\n",
    "\n",
    "# Predicting and evaluating\n",
    "y_pred_tree = tree_model.predict(X_test)\n",
    "mse_tree = mean_squared_error(y_test, y_pred_tree)\n",
    "r2_tree = r2_score(y_test, y_pred_tree)\n",
    "print(\"Decision Tree - MSE:\", mse_tree, \"R2:\", r2_tree)\n"
   ]
  },
  {
   "cell_type": "markdown",
   "id": "3ff80e80-9837-47ec-9ee6-dd56654f869b",
   "metadata": {},
   "source": [
    "# Random Forest"
   ]
  },
  {
   "cell_type": "code",
   "execution_count": 8,
   "id": "0bf191fd-2c17-474d-9ce8-592df0f69a8c",
   "metadata": {},
   "outputs": [
    {
     "name": "stdout",
     "output_type": "stream",
     "text": [
      "Random Forest - MSE: 0.13255492924930307 R2: 0.941762485973363\n"
     ]
    }
   ],
   "source": [
    "from sklearn.ensemble import RandomForestRegressor\n",
    "\n",
    "# Training the Random Forest model\n",
    "forest_model = RandomForestRegressor(random_state=42)\n",
    "forest_model.fit(X_train, y_train)\n",
    "\n",
    "# Predicting and evaluating\n",
    "y_pred_forest = forest_model.predict(X_test)\n",
    "mse_forest = mean_squared_error(y_test, y_pred_forest)\n",
    "r2_forest = r2_score(y_test, y_pred_forest)\n",
    "print(\"Random Forest - MSE:\", mse_forest, \"R2:\", r2_forest)\n"
   ]
  },
  {
   "cell_type": "markdown",
   "id": "bcf5a362-dd46-4b85-99a5-6362975588b4",
   "metadata": {},
   "source": [
    "# Support Vector Regression (SVR)"
   ]
  },
  {
   "cell_type": "code",
   "execution_count": 9,
   "id": "c32e0b8d-f4c0-4792-b1c7-1acb3d21aa5e",
   "metadata": {},
   "outputs": [
    {
     "name": "stdout",
     "output_type": "stream",
     "text": [
      "SVR - MSE: 1.8335140063808013 R2: 0.19445245628088426\n"
     ]
    }
   ],
   "source": [
    "from sklearn.svm import SVR\n",
    "\n",
    "# Training the SVR model\n",
    "svr_model = SVR()\n",
    "svr_model.fit(X_train, y_train)\n",
    "\n",
    "# Predicting and evaluating\n",
    "y_pred_svr = svr_model.predict(X_test)\n",
    "mse_svr = mean_squared_error(y_test, y_pred_svr)\n",
    "r2_svr = r2_score(y_test, y_pred_svr)\n",
    "print(\"SVR - MSE:\", mse_svr, \"R2:\", r2_svr)\n"
   ]
  },
  {
   "cell_type": "markdown",
   "id": "d99aefcc-1298-4a1e-a9d7-feae25d87f5a",
   "metadata": {},
   "source": [
    "# K-Nearest Neighbors (KNN) Regression"
   ]
  },
  {
   "cell_type": "code",
   "execution_count": 10,
   "id": "21e743d4-1b16-4d28-821a-41291adf5419",
   "metadata": {},
   "outputs": [
    {
     "name": "stdout",
     "output_type": "stream",
     "text": [
      "KNN - MSE: 0.23750350601779172 R2: 0.8956537199980489\n"
     ]
    }
   ],
   "source": [
    "from sklearn.neighbors import KNeighborsRegressor\n",
    "\n",
    "# Training the KNN model\n",
    "knn_model = KNeighborsRegressor(n_neighbors=5)\n",
    "knn_model.fit(X_train, y_train)\n",
    "\n",
    "# Predicting and evaluating\n",
    "y_pred_knn = knn_model.predict(X_test)\n",
    "mse_knn = mean_squared_error(y_test, y_pred_knn)\n",
    "r2_knn = r2_score(y_test, y_pred_knn)\n",
    "print(\"KNN - MSE:\", mse_knn, \"R2:\", r2_knn)\n"
   ]
  },
  {
   "cell_type": "markdown",
   "id": "31f63984-285f-42e9-965a-279830f58223",
   "metadata": {},
   "source": [
    "# Lasso Regression"
   ]
  },
  {
   "cell_type": "code",
   "execution_count": 11,
   "id": "4ac8cd95-1cbb-4f80-9b80-c584b0ca3837",
   "metadata": {},
   "outputs": [
    {
     "name": "stdout",
     "output_type": "stream",
     "text": [
      "Lasso - MSE: 1.7602115282703872 R2: 0.22665762678128587\n"
     ]
    }
   ],
   "source": [
    "from sklearn.linear_model import Lasso\n",
    "\n",
    "# Training the Lasso Regression model\n",
    "lasso_model = Lasso(alpha=0.1)\n",
    "lasso_model.fit(X_train, y_train)\n",
    "\n",
    "# Predicting and evaluating\n",
    "y_pred_lasso = lasso_model.predict(X_test)\n",
    "mse_lasso = mean_squared_error(y_test, y_pred_lasso)\n",
    "r2_lasso = r2_score(y_test, y_pred_lasso)\n",
    "print(\"Lasso - MSE:\", mse_lasso, \"R2:\", r2_lasso)\n"
   ]
  },
  {
   "cell_type": "markdown",
   "id": "3e30682c-14f7-46d1-b105-7830e618f4f5",
   "metadata": {},
   "source": [
    "# Ridge Regression"
   ]
  },
  {
   "cell_type": "code",
   "execution_count": 12,
   "id": "c056a7ff-3c24-4fd8-b20e-d9a3c7c8ca9a",
   "metadata": {},
   "outputs": [
    {
     "name": "stdout",
     "output_type": "stream",
     "text": [
      "Ridge - MSE: 1.7471160560085055 R2: 0.23241107370216518\n"
     ]
    }
   ],
   "source": [
    "from sklearn.linear_model import Ridge\n",
    "\n",
    "# Training the Ridge Regression model\n",
    "ridge_model = Ridge(alpha=1.0)\n",
    "ridge_model.fit(X_train, y_train)\n",
    "\n",
    "# Predicting and evaluating\n",
    "y_pred_ridge = ridge_model.predict(X_test)\n",
    "mse_ridge = mean_squared_error(y_test, y_pred_ridge)\n",
    "r2_ridge = r2_score(y_test, y_pred_ridge)\n",
    "print(\"Ridge - MSE:\", mse_ridge, \"R2:\", r2_ridge)\n"
   ]
  },
  {
   "cell_type": "markdown",
   "id": "0aafe947-4b30-476e-b827-e511bdb95411",
   "metadata": {},
   "source": [
    "# Elastic Net Regression"
   ]
  },
  {
   "cell_type": "code",
   "execution_count": 13,
   "id": "959cdc9a-b241-4019-af36-25310a565455",
   "metadata": {},
   "outputs": [
    {
     "name": "stdout",
     "output_type": "stream",
     "text": [
      "Elastic Net - MSE: 1.7566476333791097 R2: 0.2282234107162603\n"
     ]
    }
   ],
   "source": [
    "from sklearn.linear_model import ElasticNet\n",
    "\n",
    "# Training the Elastic Net model\n",
    "elastic_net_model = ElasticNet(alpha=0.1, l1_ratio=0.7)\n",
    "elastic_net_model.fit(X_train, y_train)\n",
    "\n",
    "# Predicting and evaluating\n",
    "y_pred_elastic_net = elastic_net_model.predict(X_test)\n",
    "mse_elastic_net = mean_squared_error(y_test, y_pred_elastic_net)\n",
    "r2_elastic_net = r2_score(y_test, y_pred_elastic_net)\n",
    "print(\"Elastic Net - MSE:\", mse_elastic_net, \"R2:\", r2_elastic_net)\n"
   ]
  },
  {
   "cell_type": "markdown",
   "id": "e9dc6de2-ebdf-4353-b2d0-fcda15fd218b",
   "metadata": {},
   "source": [
    "# Gradient Boosting Regression"
   ]
  },
  {
   "cell_type": "code",
   "execution_count": 14,
   "id": "a8ab1237-10e9-4a55-8f2c-3bb9fee3e8c5",
   "metadata": {},
   "outputs": [
    {
     "name": "stdout",
     "output_type": "stream",
     "text": [
      "Gradient Boosting - MSE: 0.11064815951433235 R2: 0.9513871435922374\n"
     ]
    }
   ],
   "source": [
    "from sklearn.ensemble import GradientBoostingRegressor\n",
    "\n",
    "# Training the Gradient Boosting model\n",
    "gb_model = GradientBoostingRegressor(random_state=42)\n",
    "gb_model.fit(X_train, y_train)\n",
    "\n",
    "# Predicting and evaluating\n",
    "y_pred_gb = gb_model.predict(X_test)\n",
    "mse_gb = mean_squared_error(y_test, y_pred_gb)\n",
    "r2_gb = r2_score(y_test, y_pred_gb)\n",
    "print(\"Gradient Boosting - MSE:\", mse_gb, \"R2:\", r2_gb)\n"
   ]
  },
  {
   "cell_type": "markdown",
   "id": "cadd027e-7610-4b4a-bc7e-8ae9b25debc3",
   "metadata": {},
   "source": [
    "# Data Loading and Preprocessing"
   ]
  },
  {
   "cell_type": "code",
   "execution_count": 15,
   "id": "a39e7ed5-ee1d-4a21-bb69-dbdb0d84e0b7",
   "metadata": {},
   "outputs": [
    {
     "name": "stdout",
     "output_type": "stream",
     "text": [
      "Dataset loaded successfully.\n",
      "Categorical variables encoded.\n",
      "Missing values handled.\n"
     ]
    }
   ],
   "source": [
    "import pandas as pd\n",
    "from sklearn.preprocessing import LabelEncoder\n",
    "\n",
    "# Loading the dataset\n",
    "df = pd.read_csv('data/Dataset .csv')\n",
    "print(\"Dataset loaded successfully.\")\n",
    "\n",
    "# Handling categorical variables - Encoding 'Cuisines'\n",
    "label_encoder = LabelEncoder()\n",
    "df['Cuisines_encoded'] = label_encoder.fit_transform(df['Cuisines'].astype(str))\n",
    "print(\"Categorical variables encoded.\")\n",
    "\n",
    "# Checking for and Filling Missing Values (only for numeric columns)\n",
    "df.fillna(df.median(numeric_only=True), inplace=True)\n",
    "print(\"Missing values handled.\")\n"
   ]
  },
  {
   "cell_type": "markdown",
   "id": "d13d6c57-6ed5-4d69-9a34-f929bc4c9983",
   "metadata": {},
   "source": [
    "# Feature Selection Including Geospatial Features"
   ]
  },
  {
   "cell_type": "code",
   "execution_count": 16,
   "id": "7ab534f8-728b-4cd8-ae5a-f833de498297",
   "metadata": {},
   "outputs": [
    {
     "name": "stdout",
     "output_type": "stream",
     "text": [
      "Features and target variable selected.\n"
     ]
    }
   ],
   "source": [
    "# Including geospatial features\n",
    "selected_features = ['Cuisines_encoded', 'Price range', 'Votes', 'Latitude', 'Longitude']\n",
    "X = df[selected_features]\n",
    "y = df['Aggregate rating']\n",
    "print(\"Features and target variable selected.\")\n"
   ]
  },
  {
   "cell_type": "markdown",
   "id": "ee554ab4-8f72-4d54-a163-02977d3438ec",
   "metadata": {},
   "source": [
    "# Splitting the Dataset"
   ]
  },
  {
   "cell_type": "code",
   "execution_count": 17,
   "id": "26ae53a8-39fa-42e4-af29-d2695ee647a3",
   "metadata": {},
   "outputs": [
    {
     "name": "stdout",
     "output_type": "stream",
     "text": [
      "Data split into training and testing sets.\n"
     ]
    }
   ],
   "source": [
    "from sklearn.model_selection import train_test_split\n",
    "\n",
    "# Splitting the dataset\n",
    "X_train, X_test, y_train, y_test = train_test_split(X, y, test_size=0.2, random_state=42)\n",
    "print(\"Data split into training and testing sets.\")\n"
   ]
  },
  {
   "cell_type": "markdown",
   "id": "6814439a-4867-4968-b951-292bb6a4dc3a",
   "metadata": {},
   "source": [
    "# Model Training and Evaluation"
   ]
  },
  {
   "cell_type": "code",
   "execution_count": 18,
   "id": "b5e56305-6326-4be7-912f-342f92dd8671",
   "metadata": {},
   "outputs": [
    {
     "name": "stdout",
     "output_type": "stream",
     "text": [
      "Model trained.\n",
      "Random Forest with Geospatial Data - MSE: 0.09142627994708993 R2: 0.9598322047246698\n"
     ]
    }
   ],
   "source": [
    "from sklearn.ensemble import RandomForestRegressor\n",
    "from sklearn.metrics import mean_squared_error, r2_score\n",
    "\n",
    "# Training the Random Forest model\n",
    "forest_model = RandomForestRegressor(random_state=42)\n",
    "forest_model.fit(X_train, y_train)\n",
    "print(\"Model trained.\")\n",
    "\n",
    "# Predicting and evaluating\n",
    "y_pred_forest = forest_model.predict(X_test)\n",
    "mse_forest = mean_squared_error(y_test, y_pred_forest)\n",
    "r2_forest = r2_score(y_test, y_pred_forest)\n",
    "\n",
    "# Printing the evaluation results\n",
    "print(\"Random Forest with Geospatial Data - MSE:\", mse_forest, \"R2:\", r2_forest)\n"
   ]
  },
  {
   "cell_type": "markdown",
   "id": "d8af8e42-3648-42ee-921f-0a135db8f1ea",
   "metadata": {},
   "source": [
    "# Support Vector Regression (SVR) with Geospatial Features"
   ]
  },
  {
   "cell_type": "code",
   "execution_count": 20,
   "id": "271a4274-8627-47fd-9918-9baec98f4cbd",
   "metadata": {},
   "outputs": [
    {
     "name": "stdout",
     "output_type": "stream",
     "text": [
      "SVR with Geospatial Data - MSE: 1.8537502477083163 R2: 0.18556173909041984\n"
     ]
    }
   ],
   "source": [
    "from sklearn.svm import SVR\n",
    "from sklearn.metrics import mean_squared_error, r2_score\n",
    "\n",
    "# Training the SVR model\n",
    "svr_model = SVR()\n",
    "svr_model.fit(X_train, y_train)\n",
    "\n",
    "# Predicting and evaluating\n",
    "y_pred_svr = svr_model.predict(X_test)\n",
    "mse_svr = mean_squared_error(y_test, y_pred_svr)\n",
    "r2_svr = r2_score(y_test, y_pred_svr)\n",
    "\n",
    "# Print the performance\n",
    "print(\"SVR with Geospatial Data - MSE:\", mse_svr, \"R2:\", r2_svr)\n"
   ]
  },
  {
   "cell_type": "markdown",
   "id": "4482959f-9541-45a3-858b-98d2d2772498",
   "metadata": {},
   "source": [
    "# K-Nearest Neighbors (KNN) Regression with Geospatial Features"
   ]
  },
  {
   "cell_type": "code",
   "execution_count": 21,
   "id": "0dfac7f9-1ee7-499d-bff4-6831f93152c2",
   "metadata": {},
   "outputs": [
    {
     "name": "stdout",
     "output_type": "stream",
     "text": [
      "KNN with Geospatial Data - MSE: 0.29082072213500787 R2: 0.8722289998531816\n"
     ]
    }
   ],
   "source": [
    "from sklearn.neighbors import KNeighborsRegressor\n",
    "from sklearn.metrics import mean_squared_error, r2_score\n",
    "\n",
    "# Training the KNN model\n",
    "knn_model = KNeighborsRegressor(n_neighbors=5)\n",
    "knn_model.fit(X_train, y_train)\n",
    "\n",
    "# Predicting and evaluating\n",
    "y_pred_knn = knn_model.predict(X_test)\n",
    "mse_knn = mean_squared_error(y_test, y_pred_knn)\n",
    "r2_knn = r2_score(y_test, y_pred_knn)\n",
    "\n",
    "# Print the performance\n",
    "print(\"KNN with Geospatial Data - MSE:\", mse_knn, \"R2:\", r2_knn)\n"
   ]
  },
  {
   "cell_type": "markdown",
   "id": "0ef55bcb-9940-4316-9ac9-7eed9e996694",
   "metadata": {},
   "source": [
    "# Gradient Boosting Regression with Geospatial Features"
   ]
  },
  {
   "cell_type": "code",
   "execution_count": 22,
   "id": "6584db21-aafa-4a12-9d4a-f157ececd8ae",
   "metadata": {},
   "outputs": [
    {
     "name": "stdout",
     "output_type": "stream",
     "text": [
      "Gradient Boosting with Geospatial Data - MSE: 0.0922466627524089 R2: 0.9594717725973807\n"
     ]
    }
   ],
   "source": [
    "from sklearn.ensemble import GradientBoostingRegressor\n",
    "from sklearn.metrics import mean_squared_error, r2_score\n",
    "\n",
    "# Training the Gradient Boosting model\n",
    "gb_model = GradientBoostingRegressor(random_state=42)\n",
    "gb_model.fit(X_train, y_train)\n",
    "\n",
    "# Predicting and evaluating\n",
    "y_pred_gb = gb_model.predict(X_test)\n",
    "mse_gb = mean_squared_error(y_test, y_pred_gb)\n",
    "r2_gb = r2_score(y_test, y_pred_gb)\n",
    "\n",
    "# Print the performance\n",
    "print(\"Gradient Boosting with Geospatial Data - MSE:\", mse_gb, \"R2:\", r2_gb)\n"
   ]
  },
  {
   "cell_type": "markdown",
   "id": "29842355-a5ed-463e-bb24-57f8e33049db",
   "metadata": {},
   "source": [
    "# Lasso Regression with Geospatial Features"
   ]
  },
  {
   "cell_type": "code",
   "execution_count": 23,
   "id": "e1121ceb-0905-4e99-b560-cda7c0536346",
   "metadata": {},
   "outputs": [
    {
     "name": "stdout",
     "output_type": "stream",
     "text": [
      "Lasso Regression with Geospatial Data - MSE: 1.746495519758927 R2: 0.2326837039901788\n"
     ]
    }
   ],
   "source": [
    "from sklearn.linear_model import Lasso\n",
    "from sklearn.metrics import mean_squared_error, r2_score\n",
    "\n",
    "# Training the Lasso model\n",
    "lasso_model = Lasso(alpha=0.1)\n",
    "lasso_model.fit(X_train, y_train)\n",
    "\n",
    "# Predicting and evaluating\n",
    "y_pred_lasso = lasso_model.predict(X_test)\n",
    "mse_lasso = mean_squared_error(y_test, y_pred_lasso)\n",
    "r2_lasso = r2_score(y_test, y_pred_lasso)\n",
    "\n",
    "# Print the performance\n",
    "print(\"Lasso Regression with Geospatial Data - MSE:\", mse_lasso, \"R2:\", r2_lasso)\n"
   ]
  },
  {
   "cell_type": "markdown",
   "id": "d6f20db0-a305-4cd7-8563-72127081cf22",
   "metadata": {},
   "source": [
    "# Ridge Regression with Geospatial Features"
   ]
  },
  {
   "cell_type": "code",
   "execution_count": 24,
   "id": "0c896049-dd24-4253-ad06-4d5ba58a5aaf",
   "metadata": {},
   "outputs": [
    {
     "name": "stdout",
     "output_type": "stream",
     "text": [
      "Ridge Regression with Geospatial Data - MSE: 1.7361512825633068 R2: 0.23722840604076634\n"
     ]
    }
   ],
   "source": [
    "from sklearn.linear_model import Ridge\n",
    "from sklearn.metrics import mean_squared_error, r2_score\n",
    "\n",
    "# Training the Ridge model\n",
    "ridge_model = Ridge(alpha=0.1)\n",
    "ridge_model.fit(X_train, y_train)\n",
    "\n",
    "# Predicting and evaluating\n",
    "y_pred_ridge = ridge_model.predict(X_test)\n",
    "mse_ridge = mean_squared_error(y_test, y_pred_ridge)\n",
    "r2_ridge = r2_score(y_test, y_pred_ridge)\n",
    "\n",
    "# Print the performance\n",
    "print(\"Ridge Regression with Geospatial Data - MSE:\", mse_ridge, \"R2:\", r2_ridge)\n"
   ]
  },
  {
   "cell_type": "markdown",
   "id": "6a90e1b6-559b-4a7b-9658-2c0a6b84b970",
   "metadata": {},
   "source": [
    "# ElasticNet Regression with Geospatial Features"
   ]
  },
  {
   "cell_type": "code",
   "execution_count": 25,
   "id": "b05a5038-dad9-4dae-bfff-ca9301246bbe",
   "metadata": {},
   "outputs": [
    {
     "name": "stdout",
     "output_type": "stream",
     "text": [
      "ElasticNet Regression with Geospatial Data - MSE: 1.7416799734532618 R2: 0.23479939630815105\n"
     ]
    }
   ],
   "source": [
    "from sklearn.linear_model import ElasticNet\n",
    "from sklearn.metrics import mean_squared_error, r2_score\n",
    "\n",
    "# Training the ElasticNet model\n",
    "elastic_model = ElasticNet(alpha=0.1, l1_ratio=0.5)\n",
    "elastic_model.fit(X_train, y_train)\n",
    "\n",
    "# Predicting and evaluating\n",
    "y_pred_elastic = elastic_model.predict(X_test)\n",
    "mse_elastic = mean_squared_error(y_test, y_pred_elastic)\n",
    "r2_elastic = r2_score(y_test, y_pred_elastic)\n",
    "\n",
    "# Print the performance\n",
    "print(\"ElasticNet Regression with Geospatial Data - MSE:\", mse_elastic, \"R2:\", r2_elastic)\n"
   ]
  },
  {
   "cell_type": "markdown",
   "id": "322ead34-08a8-44b6-b739-20edbeaedb3a",
   "metadata": {},
   "source": [
    "# Code Snippet for Model Evaluation"
   ]
  },
  {
   "cell_type": "code",
   "execution_count": 27,
   "id": "691a1548-6e15-43d7-9014-147cd362cf9c",
   "metadata": {},
   "outputs": [
    {
     "name": "stdout",
     "output_type": "stream",
     "text": [
      "Linear Regression model trained.\n",
      "Ridge Regression model trained.\n",
      "Lasso Regression model trained.\n",
      "Random Forest model trained.\n",
      "Gradient Boosting model trained.\n",
      "KNN Regression model trained.\n",
      "SVR model trained.\n",
      "Linear Regression - MSE: 1.736, R2: 0.237\n",
      "Ridge Regression - MSE: 1.736, R2: 0.237\n",
      "Lasso Regression - MSE: 1.746, R2: 0.233\n",
      "Random Forest - MSE: 0.091, R2: 0.960\n",
      "Gradient Boosting - MSE: 0.092, R2: 0.959\n",
      "KNN Regression - MSE: 0.291, R2: 0.872\n",
      "SVR - MSE: 1.854, R2: 0.186\n"
     ]
    }
   ],
   "source": [
    "import pandas as pd\n",
    "from sklearn.model_selection import train_test_split\n",
    "from sklearn.preprocessing import LabelEncoder\n",
    "from sklearn.linear_model import LinearRegression, Ridge, Lasso\n",
    "from sklearn.ensemble import RandomForestRegressor, GradientBoostingRegressor\n",
    "from sklearn.neighbors import KNeighborsRegressor\n",
    "from sklearn.svm import SVR\n",
    "from sklearn.metrics import mean_squared_error, r2_score\n",
    "\n",
    "# Load dataset\n",
    "df = pd.read_csv('data/Dataset .csv')\n",
    "\n",
    "# Preprocess data\n",
    "label_encoder = LabelEncoder()\n",
    "df['Cuisines_encoded'] = label_encoder.fit_transform(df['Cuisines'].astype(str))\n",
    "df.fillna(df.median(numeric_only=True), inplace=True)\n",
    "\n",
    "# Select features, including geospatial data\n",
    "features = ['Cuisines_encoded', 'Price range', 'Votes', 'Latitude', 'Longitude']\n",
    "X = df[features]\n",
    "y = df['Aggregate rating']\n",
    "\n",
    "# Split dataset\n",
    "X_train, X_test, y_train, y_test = train_test_split(X, y, test_size=0.2, random_state=42)\n",
    "\n",
    "# Initialize and train models\n",
    "models = {\n",
    "    \"Linear Regression\": LinearRegression(),\n",
    "    \"Ridge Regression\": Ridge(alpha=0.1),\n",
    "    \"Lasso Regression\": Lasso(alpha=0.1),\n",
    "    \"Random Forest\": RandomForestRegressor(random_state=42),\n",
    "    \"Gradient Boosting\": GradientBoostingRegressor(random_state=42),\n",
    "    \"KNN Regression\": KNeighborsRegressor(n_neighbors=5),\n",
    "    \"SVR\": SVR()\n",
    "}\n",
    "\n",
    "for name, model in models.items():\n",
    "    model.fit(X_train, y_train)\n",
    "    print(f\"{name} model trained.\")\n",
    "\n",
    "# Evaluate and print model performance\n",
    "for name, model in models.items():\n",
    "    mse = mean_squared_error(y_test, model.predict(X_test))\n",
    "    r2 = r2_score(y_test, model.predict(X_test))\n",
    "    print(f\"{name} - MSE: {mse:.3f}, R2: {r2:.3f}\")\n",
    "\n",
    "\n",
    "\n"
   ]
  },
  {
   "cell_type": "markdown",
   "id": "82fc0597-3e2b-4368-86ac-7995f5e0655c",
   "metadata": {},
   "source": [
    "# Additional Features and Model Evaluation with Visualization"
   ]
  },
  {
   "cell_type": "code",
   "execution_count": 29,
   "id": "066575b7-9b0b-4fe0-973b-8281b395ad1b",
   "metadata": {},
   "outputs": [
    {
     "name": "stdout",
     "output_type": "stream",
     "text": [
      "Dataset loaded.\n",
      "Data preprocessing done.\n",
      "Data split into training and test sets.\n",
      "Linear Regression model trained and evaluated.\n",
      "Ridge Regression model trained and evaluated.\n",
      "Lasso Regression model trained and evaluated.\n",
      "Random Forest model trained and evaluated.\n",
      "Gradient Boosting model trained and evaluated.\n",
      "KNN Regression model trained and evaluated.\n",
      "SVR model trained and evaluated.\n"
     ]
    },
    {
     "data": {
      "image/png": "[encoded data removed]",
      "text/plain": [
       "<Figure size 1500x500 with 2 Axes>"
      ]
     },
     "metadata": {},
     "output_type": "display_data"
    }
   ],
   "source": [
    "import pandas as pd\n",
    "import matplotlib.pyplot as plt\n",
    "from sklearn.model_selection import train_test_split\n",
    "from sklearn.preprocessing import LabelEncoder, StandardScaler\n",
    "from sklearn.linear_model import LinearRegression, Ridge, Lasso\n",
    "from sklearn.ensemble import RandomForestRegressor, GradientBoostingRegressor\n",
    "from sklearn.neighbors import KNeighborsRegressor\n",
    "from sklearn.svm import SVR\n",
    "from sklearn.metrics import mean_squared_error, r2_score\n",
    "\n",
    "# Load dataset\n",
    "df = pd.read_csv('data/Dataset .csv')\n",
    "print(\"Dataset loaded.\")\n",
    "\n",
    "# Preprocess data\n",
    "label_encoder = LabelEncoder()\n",
    "df['Cuisines_encoded'] = label_encoder.fit_transform(df['Cuisines'].astype(str))\n",
    "df.fillna(df.median(numeric_only=True), inplace=True)\n",
    "print(\"Data preprocessing done.\")\n",
    "\n",
    "# Select features, excluding the hypothetical 'Year' feature\n",
    "features = ['Cuisines_encoded', 'Price range', 'Votes', 'Latitude', 'Longitude']\n",
    "X = df[features]\n",
    "y = df['Aggregate rating']\n",
    "\n",
    "# Standardize the features\n",
    "scaler = StandardScaler()\n",
    "X_scaled = scaler.fit_transform(X)\n",
    "\n",
    "# Split dataset\n",
    "X_train, X_test, y_train, y_test = train_test_split(X_scaled, y, test_size=0.2, random_state=42)\n",
    "print(\"Data split into training and test sets.\")\n",
    "\n",
    "# Initialize and train models\n",
    "models = {\n",
    "    \"Linear Regression\": LinearRegression(),\n",
    "    \"Ridge Regression\": Ridge(),\n",
    "    \"Lasso Regression\": Lasso(),\n",
    "    \"Random Forest\": RandomForestRegressor(random_state=42),\n",
    "    \"Gradient Boosting\": GradientBoostingRegressor(random_state=42),\n",
    "    \"KNN Regression\": KNeighborsRegressor(),\n",
    "    \"SVR\": SVR()\n",
    "}\n",
    "\n",
    "model_performance = {}\n",
    "\n",
    "for name, model in models.items():\n",
    "    model.fit(X_train, y_train)\n",
    "    mse = mean_squared_error(y_test, model.predict(X_test))\n",
    "    r2 = r2_score(y_test, model.predict(X_test))\n",
    "    model_performance[name] = (mse, r2)\n",
    "    print(f\"{name} model trained and evaluated.\")\n",
    "\n",
    "# Visualization of model performance\n",
    "mse_values = [mse for mse, _ in model_performance.values()]\n",
    "r2_values = [r2 for _, r2 in model_performance.values()]\n",
    "labels = list(model_performance.keys())\n",
    "\n",
    "x = range(len(labels))\n",
    "\n",
    "plt.figure(figsize=(15, 5))\n",
    "plt.subplot(1, 2, 1)\n",
    "plt.bar(x, mse_values, tick_label=labels)\n",
    "plt.xticks(rotation=45)\n",
    "plt.title(\"Mean Squared Error of Models\")\n",
    "plt.ylabel(\"MSE\")\n",
    "\n",
    "plt.subplot(1, 2, 2)\n",
    "plt.bar(x, r2_values, tick_label=labels, color='orange')\n",
    "plt.xticks(rotation=45)\n",
    "plt.title(\"R2 Score of Models\")\n",
    "plt.ylabel(\"R2 Score\")\n",
    "\n",
    "plt.tight_layout()\n",
    "plt.show()\n",
    "\n"
   ]
  },
  {
   "cell_type": "code",
   "execution_count": null,
   "id": "364553b0-484b-4fa1-b5e3-df1595025ba8",
   "metadata": {},
   "outputs": [],
   "source": []
  }
 ],
 "metadata": {
  "kernelspec": {
   "display_name": "Python 3 (ipykernel)",
   "language": "python",
   "name": "python3"
  },
  "language_info": {
   "codemirror_mode": {
    "name": "ipython",
    "version": 3
   },
   "file_extension": ".py",
   "mimetype": "text/x-python",
   "name": "python",
   "nbconvert_exporter": "python",
   "pygments_lexer": "ipython3",
   "version": "3.11.3"
  }
 },
 "nbformat": 4,
 "nbformat_minor": 5
}
