{
 "cells": [
  {
   "cell_type": "markdown",
   "id": "ab35f9fa-5617-421b-8e5d-860b131107e8",
   "metadata": {},
   "source": [
    "#  Data Exploration and Preprocessing"
   ]
  },
  {
   "cell_type": "markdown",
   "id": "4d05318b-9a8e-4bb9-ba11-7225fee6a3ca",
   "metadata": {},
   "source": [
    "# Loading the dataset to examine its structure."
   ]
  },
  {
   "cell_type": "code",
   "execution_count": 6,
   "id": "d96bcffc-a7a7-4528-9d01-3d842e3ce435",
   "metadata": {},
   "outputs": [
    {
     "name": "stdout",
     "output_type": "stream",
     "text": [
      "   Restaurant ID         Restaurant Name  Country Code              City  \\\n",
      "0        6317637        Le Petit Souffle           162       Makati City   \n",
      "1        6304287        Izakaya Kikufuji           162       Makati City   \n",
      "2        6300002  Heat - Edsa Shangri-La           162  Mandaluyong City   \n",
      "3        6318506                    Ooma           162  Mandaluyong City   \n",
      "4        6314302             Sambo Kojin           162  Mandaluyong City   \n",
      "\n",
      "                                             Address  \\\n",
      "0  Third Floor, Century City Mall, Kalayaan Avenu...   \n",
      "1  Little Tokyo, 2277 Chino Roces Avenue, Legaspi...   \n",
      "2  Edsa Shangri-La, 1 Garden Way, Ortigas, Mandal...   \n",
      "3  Third Floor, Mega Fashion Hall, SM Megamall, O...   \n",
      "4  Third Floor, Mega Atrium, SM Megamall, Ortigas...   \n",
      "\n",
      "                                     Locality  \\\n",
      "0   Century City Mall, Poblacion, Makati City   \n",
      "1  Little Tokyo, Legaspi Village, Makati City   \n",
      "2  Edsa Shangri-La, Ortigas, Mandaluyong City   \n",
      "3      SM Megamall, Ortigas, Mandaluyong City   \n",
      "4      SM Megamall, Ortigas, Mandaluyong City   \n",
      "\n",
      "                                    Locality Verbose   Longitude   Latitude  \\\n",
      "0  Century City Mall, Poblacion, Makati City, Mak...  121.027535  14.565443   \n",
      "1  Little Tokyo, Legaspi Village, Makati City, Ma...  121.014101  14.553708   \n",
      "2  Edsa Shangri-La, Ortigas, Mandaluyong City, Ma...  121.056831  14.581404   \n",
      "3  SM Megamall, Ortigas, Mandaluyong City, Mandal...  121.056475  14.585318   \n",
      "4  SM Megamall, Ortigas, Mandaluyong City, Mandal...  121.057508  14.584450   \n",
      "\n",
      "                           Cuisines  ...          Currency Has Table booking  \\\n",
      "0        French, Japanese, Desserts  ...  Botswana Pula(P)               Yes   \n",
      "1                          Japanese  ...  Botswana Pula(P)               Yes   \n",
      "2  Seafood, Asian, Filipino, Indian  ...  Botswana Pula(P)               Yes   \n",
      "3                   Japanese, Sushi  ...  Botswana Pula(P)                No   \n",
      "4                  Japanese, Korean  ...  Botswana Pula(P)               Yes   \n",
      "\n",
      "  Has Online delivery Is delivering now Switch to order menu Price range  \\\n",
      "0                  No                No                   No           3   \n",
      "1                  No                No                   No           3   \n",
      "2                  No                No                   No           4   \n",
      "3                  No                No                   No           4   \n",
      "4                  No                No                   No           4   \n",
      "\n",
      "   Aggregate rating  Rating color Rating text Votes  \n",
      "0               4.8    Dark Green   Excellent   314  \n",
      "1               4.5    Dark Green   Excellent   591  \n",
      "2               4.4         Green   Very Good   270  \n",
      "3               4.9    Dark Green   Excellent   365  \n",
      "4               4.8    Dark Green   Excellent   229  \n",
      "\n",
      "[5 rows x 21 columns]\n",
      "Dataset Shape: (9551, 21)\n"
     ]
    }
   ],
   "source": [
    "import pandas as pd\n",
    "\n",
    "# Corrected file path\n",
    "file_path = 'data/Dataset .csv'  \n",
    "\n",
    "# Load the dataset\n",
    "data = pd.read_csv(file_path)\n",
    "\n",
    "# Display the first few rows of the dataset and its shape to understand its structure\n",
    "print(data.head())\n",
    "print(\"Dataset Shape:\", data.shape)\n",
    "\n"
   ]
  },
  {
   "cell_type": "markdown",
   "id": "691545a2-f4e5-4fc5-9150-d7c5b5f4c75b",
   "metadata": {},
   "source": [
    "# Identifying the number of rows and columns."
   ]
  },
  {
   "cell_type": "code",
   "execution_count": 5,
   "id": "65f2f912-1923-40e8-8c1d-e9aefef43d9a",
   "metadata": {},
   "outputs": [
    {
     "name": "stdout",
     "output_type": "stream",
     "text": [
      "Number of Rows: 9551\n",
      "Number of Columns: 21\n"
     ]
    }
   ],
   "source": [
    "# Identifying the number of rows and columns\n",
    "rows, columns = data.shape\n",
    "print(\"Number of Rows:\", rows)\n",
    "print(\"Number of Columns:\", columns)\n"
   ]
  },
  {
   "cell_type": "markdown",
   "id": "a7a2b9cd-f337-476b-88ea-b84fe50852fe",
   "metadata": {},
   "source": [
    "# Checking for missing values in each column and handling them as needed."
   ]
  },
  {
   "cell_type": "markdown",
   "id": "201223bf-24ac-4b70-9fe9-8031fd8914e0",
   "metadata": {},
   "source": [
    "#  Check for Missing Values"
   ]
  },
  {
   "cell_type": "code",
   "execution_count": 7,
   "id": "c9039805-f7ea-40cf-9195-09a850978c83",
   "metadata": {},
   "outputs": [
    {
     "name": "stdout",
     "output_type": "stream",
     "text": [
      "Restaurant ID           0\n",
      "Restaurant Name         0\n",
      "Country Code            0\n",
      "City                    0\n",
      "Address                 0\n",
      "Locality                0\n",
      "Locality Verbose        0\n",
      "Longitude               0\n",
      "Latitude                0\n",
      "Cuisines                9\n",
      "Average Cost for two    0\n",
      "Currency                0\n",
      "Has Table booking       0\n",
      "Has Online delivery     0\n",
      "Is delivering now       0\n",
      "Switch to order menu    0\n",
      "Price range             0\n",
      "Aggregate rating        0\n",
      "Rating color            0\n",
      "Rating text             0\n",
      "Votes                   0\n",
      "dtype: int64\n"
     ]
    }
   ],
   "source": [
    "# Checking for missing values in each column\n",
    "missing_values = data.isnull().sum()\n",
    "print(missing_values)\n"
   ]
  },
  {
   "cell_type": "markdown",
   "id": "80ec9d12-7ca6-4170-b192-2c2b63eaecd7",
   "metadata": {},
   "source": [
    "# Handle Missing Values"
   ]
  },
  {
   "cell_type": "code",
   "execution_count": 9,
   "id": "1cbe7ede-5561-48db-b453-2944585229d3",
   "metadata": {},
   "outputs": [
    {
     "name": "stdout",
     "output_type": "stream",
     "text": [
      "Missing values in 'Cuisines' before handling: 0\n",
      "Missing values in 'Cuisines' after handling: 0\n"
     ]
    }
   ],
   "source": [
    "# Count missing values in 'Cuisines' before handling\n",
    "missing_before = data['Cuisines'].isnull().sum()\n",
    "print(\"Missing values in 'Cuisines' before handling:\", missing_before)\n",
    "\n",
    "# Handling missing values in 'Cuisines'\n",
    "data['Cuisines'].fillna('Not Specified', inplace=True)\n",
    "\n",
    "# Count missing values in 'Cuisines' after handling\n",
    "missing_after = data['Cuisines'].isnull().sum()\n",
    "print(\"Missing values in 'Cuisines' after handling:\", missing_after)\n",
    "\n"
   ]
  },
  {
   "cell_type": "markdown",
   "id": "090e0453-3efb-4dca-b16a-ca6cd7f087e2",
   "metadata": {},
   "source": [
    "# Performing data type conversions if necessary."
   ]
  },
  {
   "cell_type": "code",
   "execution_count": 12,
   "id": "a6a4ea3f-6930-486d-8f7e-4c6337fc1914",
   "metadata": {},
   "outputs": [
    {
     "name": "stdout",
     "output_type": "stream",
     "text": [
      "Restaurant ID              int64\n",
      "Restaurant Name           object\n",
      "Country Code            category\n",
      "City                      object\n",
      "Address                   object\n",
      "Locality                  object\n",
      "Locality Verbose          object\n",
      "Longitude                float64\n",
      "Latitude                 float64\n",
      "Cuisines                  object\n",
      "Average Cost for two       int64\n",
      "Currency                  object\n",
      "Has Table booking         object\n",
      "Has Online delivery       object\n",
      "Is delivering now         object\n",
      "Switch to order menu      object\n",
      "Price range             category\n",
      "Aggregate rating         float64\n",
      "Rating color              object\n",
      "Rating text               object\n",
      "Votes                      int64\n",
      "dtype: object\n"
     ]
    }
   ],
   "source": [
    "import pandas as pd\n",
    "\n",
    "# Load the dataset\n",
    "file_path = 'data/Dataset .csv'  \n",
    "data_new = pd.read_csv(file_path)\n",
    "\n",
    "# Converting 'Country Code' and 'Price Range' to categorical data types\n",
    "data_new['Country Code'] = data_new['Country Code'].astype('category')\n",
    "data_new['Price range'] = data_new['Price range'].astype('category')\n",
    "\n",
    "# Print the data types after conversion\n",
    "print(data_new.dtypes)\n",
    "\n"
   ]
  },
  {
   "cell_type": "markdown",
   "id": "ea2d62c9-8dda-4030-a239-fb2889599a31",
   "metadata": {},
   "source": [
    "# Analyzing the distribution of the target variable, \"Aggregate rating,\" and identifying any class imbalances."
   ]
  },
  {
   "cell_type": "code",
   "execution_count": 14,
   "id": "03050723-aa1d-480f-aaa3-1a3f827d1dec",
   "metadata": {},
   "outputs": [
    {
     "data": {
      "image/png": "[encoded data removed]",
      "text/plain": [
       "<Figure size 640x480 with 1 Axes>"
      ]
     },
     "metadata": {},
     "output_type": "display_data"
    }
   ],
   "source": [
    "import matplotlib.pyplot as plt\n",
    "\n",
    "# Analyzing the distribution of 'Aggregate rating'\n",
    "data['Aggregate rating'].hist(bins=20)\n",
    "plt.xlabel('Aggregate Rating')\n",
    "plt.ylabel('Frequency')\n",
    "plt.title('Distribution of Aggregate Rating')\n",
    "plt.show()\n",
    "\n"
   ]
  },
  {
   "cell_type": "code",
   "execution_count": null,
   "id": "642a3b7f-2c96-4b58-ba45-6b26c9bc67b9",
   "metadata": {},
   "outputs": [],
   "source": []
  }
 ],
 "metadata": {
  "kernelspec": {
   "display_name": "Python 3 (ipykernel)",
   "language": "python",
   "name": "python3"
  },
  "language_info": {
   "codemirror_mode": {
    "name": "ipython",
    "version": 3
   },
   "file_extension": ".py",
   "mimetype": "text/x-python",
   "name": "python",
   "nbconvert_exporter": "python",
   "pygments_lexer": "ipython3",
   "version": "3.11.3"
  }
 },
 "nbformat": 4,
 "nbformat_minor": 5
}
