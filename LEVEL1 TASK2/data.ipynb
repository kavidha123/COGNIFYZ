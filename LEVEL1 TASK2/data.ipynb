{
 "cells": [
  {
   "cell_type": "markdown",
   "id": "60d3055e-b651-414c-b8d9-a230a855bb7b",
   "metadata": {},
   "source": [
    "# Load the dataset"
   ]
  },
  {
   "cell_type": "code",
   "execution_count": 1,
   "id": "9c33bca4-fd22-4864-8718-75a2bdeaca12",
   "metadata": {},
   "outputs": [
    {
     "name": "stdout",
     "output_type": "stream",
     "text": [
      "   Restaurant ID         Restaurant Name  Country Code              City  \\\n",
      "0        6317637        Le Petit Souffle           162       Makati City   \n",
      "1        6304287        Izakaya Kikufuji           162       Makati City   \n",
      "2        6300002  Heat - Edsa Shangri-La           162  Mandaluyong City   \n",
      "3        6318506                    Ooma           162  Mandaluyong City   \n",
      "4        6314302             Sambo Kojin           162  Mandaluyong City   \n",
      "\n",
      "                                             Address  \\\n",
      "0  Third Floor, Century City Mall, Kalayaan Avenu...   \n",
      "1  Little Tokyo, 2277 Chino Roces Avenue, Legaspi...   \n",
      "2  Edsa Shangri-La, 1 Garden Way, Ortigas, Mandal...   \n",
      "3  Third Floor, Mega Fashion Hall, SM Megamall, O...   \n",
      "4  Third Floor, Mega Atrium, SM Megamall, Ortigas...   \n",
      "\n",
      "                                     Locality  \\\n",
      "0   Century City Mall, Poblacion, Makati City   \n",
      "1  Little Tokyo, Legaspi Village, Makati City   \n",
      "2  Edsa Shangri-La, Ortigas, Mandaluyong City   \n",
      "3      SM Megamall, Ortigas, Mandaluyong City   \n",
      "4      SM Megamall, Ortigas, Mandaluyong City   \n",
      "\n",
      "                                    Locality Verbose   Longitude   Latitude  \\\n",
      "0  Century City Mall, Poblacion, Makati City, Mak...  121.027535  14.565443   \n",
      "1  Little Tokyo, Legaspi Village, Makati City, Ma...  121.014101  14.553708   \n",
      "2  Edsa Shangri-La, Ortigas, Mandaluyong City, Ma...  121.056831  14.581404   \n",
      "3  SM Megamall, Ortigas, Mandaluyong City, Mandal...  121.056475  14.585318   \n",
      "4  SM Megamall, Ortigas, Mandaluyong City, Mandal...  121.057508  14.584450   \n",
      "\n",
      "                           Cuisines  ...          Currency Has Table booking  \\\n",
      "0        French, Japanese, Desserts  ...  Botswana Pula(P)               Yes   \n",
      "1                          Japanese  ...  Botswana Pula(P)               Yes   \n",
      "2  Seafood, Asian, Filipino, Indian  ...  Botswana Pula(P)               Yes   \n",
      "3                   Japanese, Sushi  ...  Botswana Pula(P)                No   \n",
      "4                  Japanese, Korean  ...  Botswana Pula(P)               Yes   \n",
      "\n",
      "  Has Online delivery Is delivering now Switch to order menu Price range  \\\n",
      "0                  No                No                   No           3   \n",
      "1                  No                No                   No           3   \n",
      "2                  No                No                   No           4   \n",
      "3                  No                No                   No           4   \n",
      "4                  No                No                   No           4   \n",
      "\n",
      "   Aggregate rating  Rating color Rating text Votes  \n",
      "0               4.8    Dark Green   Excellent   314  \n",
      "1               4.5    Dark Green   Excellent   591  \n",
      "2               4.4         Green   Very Good   270  \n",
      "3               4.9    Dark Green   Excellent   365  \n",
      "4               4.8    Dark Green   Excellent   229  \n",
      "\n",
      "[5 rows x 21 columns]\n"
     ]
    }
   ],
   "source": [
    "import pandas as pd\n",
    "\n",
    "# Load the dataset\n",
    "file_path = 'data/Dataset .csv'  \n",
    "data = pd.read_csv(file_path)\n",
    "\n",
    "# Display the first few rows of the dataframe\n",
    "print(data.head())\n"
   ]
  },
  {
   "cell_type": "markdown",
   "id": "db50be5c-83a1-4154-8eba-b1de27a80c4f",
   "metadata": {},
   "source": [
    "# Calculate basic statistical measures for numerical columns."
   ]
  },
  {
   "cell_type": "markdown",
   "id": "76447ed9-6cf5-40b6-a227-07f9ce8dab09",
   "metadata": {},
   "source": [
    "# Identify Numerical Columns"
   ]
  },
  {
   "cell_type": "code",
   "execution_count": 2,
   "id": "a3e48abb-0aa3-4694-a2c7-6cf391800046",
   "metadata": {},
   "outputs": [
    {
     "name": "stdout",
     "output_type": "stream",
     "text": [
      "Index(['Restaurant ID', 'Country Code', 'Longitude', 'Latitude',\n",
      "       'Average Cost for two', 'Price range', 'Aggregate rating', 'Votes'],\n",
      "      dtype='object')\n"
     ]
    }
   ],
   "source": [
    "# Identifying numerical columns\n",
    "numerical_data = data.select_dtypes(include=['float64', 'int64'])\n",
    "print(numerical_data.columns)\n"
   ]
  },
  {
   "cell_type": "markdown",
   "id": "77fe5159-dc09-4963-aa10-92216b265726",
   "metadata": {},
   "source": [
    "# Calculate Mean, Median, and Standard Deviation"
   ]
  },
  {
   "cell_type": "code",
   "execution_count": 3,
   "id": "e7967ce0-aed7-4ece-8427-417b75248ee1",
   "metadata": {},
   "outputs": [
    {
     "name": "stdout",
     "output_type": "stream",
     "text": [
      "        Restaurant ID  Country Code  Longitude   Latitude  \\\n",
      "mean     9.051128e+06     18.365616  64.126574  25.854381   \n",
      "median   6.004089e+06      1.000000  77.191964  28.570469   \n",
      "std      8.791521e+06     56.750546  41.467058  11.007935   \n",
      "\n",
      "        Average Cost for two  Price range  Aggregate rating       Votes  \n",
      "mean             1199.210763     1.804837          2.666370  156.909748  \n",
      "median            400.000000     2.000000          3.200000   31.000000  \n",
      "std             16121.183073     0.905609          1.516378  430.169145  \n"
     ]
    }
   ],
   "source": [
    "# Calculating mean, median, and standard deviation\n",
    "numerical_stats = numerical_data.describe().loc[['mean', '50%', 'std']]\n",
    "numerical_stats.rename(index={'50%': 'median'}, inplace=True)\n",
    "print(numerical_stats)\n"
   ]
  },
  {
   "cell_type": "markdown",
   "id": "f90ede8f-f156-4f82-8623-d2e996491563",
   "metadata": {},
   "source": [
    "# Explore the distribution of categorical variables such as \"Country Code\", \"City\", and \"Cuisines\""
   ]
  },
  {
   "cell_type": "markdown",
   "id": "9705855b-628f-4a1a-bbc8-839e660d4c50",
   "metadata": {},
   "source": [
    "# Distribution of \"Country Code\""
   ]
  },
  {
   "cell_type": "code",
   "execution_count": 4,
   "id": "ab6359ca-6c96-4ae4-823d-0c651c9feeb3",
   "metadata": {},
   "outputs": [
    {
     "name": "stdout",
     "output_type": "stream",
     "text": [
      "Country Code\n",
      "1      8652\n",
      "216     434\n",
      "215      80\n",
      "30       60\n",
      "214      60\n",
      "189      60\n",
      "148      40\n",
      "208      34\n",
      "14       24\n",
      "162      22\n",
      "94       21\n",
      "184      20\n",
      "166      20\n",
      "191      20\n",
      "37        4\n",
      "Name: count, dtype: int64\n"
     ]
    }
   ],
   "source": [
    "# Distribution of \"Country Code\"\n",
    "country_code_distribution = data['Country Code'].value_counts()\n",
    "print(country_code_distribution)\n"
   ]
  },
  {
   "cell_type": "markdown",
   "id": "5e8e9679-f09c-461e-a36c-4d08634ed5a5",
   "metadata": {},
   "source": [
    "# Distribution of \"City\""
   ]
  },
  {
   "cell_type": "code",
   "execution_count": 5,
   "id": "97bcb8d2-d169-4248-aeaf-cc08fc4d557f",
   "metadata": {},
   "outputs": [
    {
     "name": "stdout",
     "output_type": "stream",
     "text": [
      "City\n",
      "New Delhi           5473\n",
      "Gurgaon             1118\n",
      "Noida               1080\n",
      "Faridabad            251\n",
      "Ghaziabad             25\n",
      "                    ... \n",
      "Panchkula              1\n",
      "Mc Millan              1\n",
      "Mayfield               1\n",
      "Macedon                1\n",
      "Vineland Station       1\n",
      "Name: count, Length: 141, dtype: int64\n"
     ]
    }
   ],
   "source": [
    "# Distribution of \"City\"\n",
    "city_distribution = data['City'].value_counts()\n",
    "print(city_distribution)\n"
   ]
  },
  {
   "cell_type": "markdown",
   "id": "f2b3e374-9d98-441a-a9ff-ee375ca84a62",
   "metadata": {},
   "source": [
    "# Distribution of \"Cuisines\""
   ]
  },
  {
   "cell_type": "code",
   "execution_count": 6,
   "id": "17184e22-0669-4c70-a978-d005b25156cc",
   "metadata": {},
   "outputs": [
    {
     "name": "stdout",
     "output_type": "stream",
     "text": [
      "Cuisines\n",
      "North Indian                                             936\n",
      "North Indian, Chinese                                    511\n",
      "Chinese                                                  354\n",
      "Fast Food                                                354\n",
      "North Indian, Mughlai                                    334\n",
      "                                                        ... \n",
      "Bengali, Fast Food                                         1\n",
      "North Indian, Rajasthani, Asian                            1\n",
      "Chinese, Thai, Malaysian, Indonesian                       1\n",
      "Bakery, Desserts, North Indian, Bengali, South Indian      1\n",
      "Italian, World Cuisine                                     1\n",
      "Name: count, Length: 1825, dtype: int64\n"
     ]
    }
   ],
   "source": [
    "# Distribution of \"Cuisines\"\n",
    "cuisines_distribution = data['Cuisines'].value_counts()\n",
    "print(cuisines_distribution)\n"
   ]
  },
  {
   "cell_type": "markdown",
   "id": "33f5b7c8-ddc1-4957-97ce-5ff870907974",
   "metadata": {},
   "source": [
    "# Distribution of \"Restaurant Name\""
   ]
  },
  {
   "cell_type": "code",
   "execution_count": 9,
   "id": "d6fb79a7-524c-4716-b187-f1f78286a30b",
   "metadata": {},
   "outputs": [
    {
     "name": "stdout",
     "output_type": "stream",
     "text": [
      "Restaurant Name Distribution:\n",
      " Restaurant Name\n",
      "Cafe Coffee Day     83\n",
      "Domino's Pizza      79\n",
      "Subway              63\n",
      "Green Chick Chop    51\n",
      "McDonald's          48\n",
      "Keventers           34\n",
      "Pizza Hut           30\n",
      "Giani               29\n",
      "Baskin Robbins      28\n",
      "Barbeque Nation     26\n",
      "Name: count, dtype: int64\n"
     ]
    }
   ],
   "source": [
    "# Distribution of \"Restaurant Name\"\n",
    "restaurant_name_distribution = data['Restaurant Name'].value_counts().head(10)\n",
    "print(\"Restaurant Name Distribution:\\n\", restaurant_name_distribution)\n"
   ]
  },
  {
   "cell_type": "markdown",
   "id": "da837a20-881a-4d6f-b0d7-8d3e35f5b188",
   "metadata": {},
   "source": [
    "# Distribution of \"Locality\""
   ]
  },
  {
   "cell_type": "code",
   "execution_count": 10,
   "id": "8e724aa2-42f2-45e7-a420-bcdf8cc2c21c",
   "metadata": {},
   "outputs": [
    {
     "name": "stdout",
     "output_type": "stream",
     "text": [
      "\n",
      "Locality Distribution:\n",
      " Locality\n",
      "Connaught Place        122\n",
      "Rajouri Garden          99\n",
      "Shahdara                87\n",
      "Defence Colony          86\n",
      "Malviya Nagar           85\n",
      "Pitampura               85\n",
      "Mayur Vihar Phase 1     84\n",
      "Rajinder Nagar          81\n",
      "Safdarjung              80\n",
      "Satyaniketan            79\n",
      "Name: count, dtype: int64\n"
     ]
    }
   ],
   "source": [
    "# Distribution of \"Locality\"\n",
    "locality_distribution = data['Locality'].value_counts().head(10)\n",
    "print(\"\\nLocality Distribution:\\n\", locality_distribution)\n"
   ]
  },
  {
   "cell_type": "markdown",
   "id": "60127454-898d-49ef-abe9-1fb844cb3aa8",
   "metadata": {},
   "source": [
    "# Distribution of \"Rating Text\""
   ]
  },
  {
   "cell_type": "code",
   "execution_count": 11,
   "id": "8695874f-cf68-4a31-9475-3bbb7dbf698a",
   "metadata": {},
   "outputs": [
    {
     "name": "stdout",
     "output_type": "stream",
     "text": [
      "\n",
      "Rating Text Distribution:\n",
      " Rating text\n",
      "Average      3737\n",
      "Not rated    2148\n",
      "Good         2100\n",
      "Very Good    1079\n",
      "Excellent     301\n",
      "Poor          186\n",
      "Name: count, dtype: int64\n"
     ]
    }
   ],
   "source": [
    "# Distribution of \"Rating Text\"\n",
    "rating_text_distribution = data['Rating text'].value_counts()\n",
    "print(\"\\nRating Text Distribution:\\n\", rating_text_distribution)\n"
   ]
  },
  {
   "cell_type": "markdown",
   "id": "34c0a6f8-5e27-4b87-9db0-d74214d7794a",
   "metadata": {},
   "source": [
    "# Distribution of \"Has Table Booking\""
   ]
  },
  {
   "cell_type": "code",
   "execution_count": 12,
   "id": "f7ce91e8-bdff-4bb3-a11a-45b9f0e3b1ba",
   "metadata": {},
   "outputs": [
    {
     "name": "stdout",
     "output_type": "stream",
     "text": [
      "\n",
      "Has Table Booking Distribution:\n",
      " Has Table booking\n",
      "No     8393\n",
      "Yes    1158\n",
      "Name: count, dtype: int64\n"
     ]
    }
   ],
   "source": [
    "# Distribution of \"Has Table Booking\"\n",
    "has_table_booking_distribution = data['Has Table booking'].value_counts()\n",
    "print(\"\\nHas Table Booking Distribution:\\n\", has_table_booking_distribution)\n"
   ]
  },
  {
   "cell_type": "markdown",
   "id": "b5c5d490-46e5-4de5-96cd-1b26a28edf46",
   "metadata": {},
   "source": [
    "#  Distribution of \"Has Online Delivery\"\r",
    "\r\n"
   ]
  },
  {
   "cell_type": "code",
   "execution_count": 13,
   "id": "2b50b056-d56e-4986-9017-3b58e29a06cf",
   "metadata": {},
   "outputs": [
    {
     "name": "stdout",
     "output_type": "stream",
     "text": [
      "\n",
      "Has Online Delivery Distribution:\n",
      " Has Online delivery\n",
      "No     7100\n",
      "Yes    2451\n",
      "Name: count, dtype: int64\n"
     ]
    }
   ],
   "source": [
    "# Distribution of \"Has Online Delivery\"\n",
    "has_online_delivery_distribution = data['Has Online delivery'].value_counts()\n",
    "print(\"\\nHas Online Delivery Distribution:\\n\", has_online_delivery_distribution)\n"
   ]
  },
  {
   "cell_type": "markdown",
   "id": "c80e39a0-6f6c-4406-8973-afc156f0b63e",
   "metadata": {},
   "source": [
    "# Identify the top cuisines and cities with the highest number of restaurants."
   ]
  },
  {
   "cell_type": "markdown",
   "id": "69a4f9ee-6196-40f0-a0e0-0b4d7ef364fb",
   "metadata": {},
   "source": [
    "# Top Cuisines"
   ]
  },
  {
   "cell_type": "code",
   "execution_count": 14,
   "id": "9941bdf3-24ac-488b-af9a-99671697847c",
   "metadata": {},
   "outputs": [
    {
     "name": "stdout",
     "output_type": "stream",
     "text": [
      "Cuisines\n",
      "North Indian                      936\n",
      "North Indian, Chinese             511\n",
      "Chinese                           354\n",
      "Fast Food                         354\n",
      "North Indian, Mughlai             334\n",
      "Cafe                              299\n",
      "Bakery                            218\n",
      "North Indian, Mughlai, Chinese    197\n",
      "Bakery, Desserts                  170\n",
      "Street Food                       149\n",
      "Name: count, dtype: int64\n"
     ]
    }
   ],
   "source": [
    "# Identifying top cuisines\n",
    "top_cuisines = data['Cuisines'].value_counts().head(10)\n",
    "print(top_cuisines)\n"
   ]
  },
  {
   "cell_type": "markdown",
   "id": "d63c3f82-23f4-480a-8a83-a8d8c4ee5cf7",
   "metadata": {},
   "source": [
    "# Top Cities"
   ]
  },
  {
   "cell_type": "code",
   "execution_count": 15,
   "id": "1e769b2d-5fc1-4f95-8a97-d25051fa8a35",
   "metadata": {},
   "outputs": [
    {
     "name": "stdout",
     "output_type": "stream",
     "text": [
      "City\n",
      "New Delhi       5473\n",
      "Gurgaon         1118\n",
      "Noida           1080\n",
      "Faridabad        251\n",
      "Ghaziabad         25\n",
      "Bhubaneshwar      21\n",
      "Amritsar          21\n",
      "Ahmedabad         21\n",
      "Lucknow           21\n",
      "Guwahati          21\n",
      "Name: count, dtype: int64\n"
     ]
    }
   ],
   "source": [
    "# Identifying top cities\n",
    "top_cities = data['City'].value_counts().head(10)\n",
    "print(top_cities)\n"
   ]
  },
  {
   "cell_type": "code",
   "execution_count": null,
   "id": "d63630ea-84bc-4d19-829e-0bc40026bb2d",
   "metadata": {},
   "outputs": [],
   "source": []
  }
 ],
 "metadata": {
  "kernelspec": {
   "display_name": "Python 3 (ipykernel)",
   "language": "python",
   "name": "python3"
  },
  "language_info": {
   "codemirror_mode": {
    "name": "ipython",
    "version": 3
   },
   "file_extension": ".py",
   "mimetype": "text/x-python",
   "name": "python",
   "nbconvert_exporter": "python",
   "pygments_lexer": "ipython3",
   "version": "3.11.3"
  }
 },
 "nbformat": 4,
 "nbformat_minor": 5
}
